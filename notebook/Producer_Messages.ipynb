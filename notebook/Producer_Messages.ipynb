{
 "cells": [
  {
   "cell_type": "code",
   "execution_count": 0,
   "metadata": {
    "application/vnd.databricks.v1+cell": {
     "cellMetadata": {
      "byteLimit": 2048000,
      "rowLimit": 10000
     },
     "inputWidgets": {},
     "nuid": "eeb4bc75-7f82-475c-87aa-87f265deef7b",
     "showTitle": false,
     "title": ""
    }
   },
   "outputs": [
    {
     "output_type": "display_data",
     "data": {
      "text/html": [
       "<style scoped>\n",
       "  .ansiout {\n",
       "    display: block;\n",
       "    unicode-bidi: embed;\n",
       "    white-space: pre-wrap;\n",
       "    word-wrap: break-word;\n",
       "    word-break: break-all;\n",
       "    font-family: \"Menlo\", \"Monaco\", \"Consolas\", \"Ubuntu Mono\", \"Source Code Pro\", monospace;\n",
       "    font-size: 13px;\n",
       "    color: #555;\n",
       "    margin-left: 4px;\n",
       "    line-height: 19px;\n",
       "  }\n",
       "</style>\n",
       "<div class=\"ansiout\">Python interpreter will be restarted.\n",
       "Requirement already satisfied: confluent_kafka in /local_disk0/.ephemeral_nfs/envs/pythonEnv-341b20a4-7e83-4002-91e2-8392da2568db/lib/python3.8/site-packages (2.4.0)\n",
       "Python interpreter will be restarted.\n",
       "Python interpreter will be restarted.\n",
       "Requirement already satisfied: Faker in /local_disk0/.ephemeral_nfs/envs/pythonEnv-341b20a4-7e83-4002-91e2-8392da2568db/lib/python3.8/site-packages (26.0.0)\n",
       "Requirement already satisfied: python-dateutil&gt;=2.4 in /databricks/python3/lib/python3.8/site-packages (from Faker) (2.8.1)\n",
       "Requirement already satisfied: six&gt;=1.5 in /databricks/python3/lib/python3.8/site-packages (from python-dateutil&gt;=2.4-&gt;Faker) (1.15.0)\n",
       "Python interpreter will be restarted.\n",
       "</div>"
      ]
     },
     "metadata": {
      "application/vnd.databricks.v1+output": {
       "addedWidgets": {},
       "arguments": {},
       "data": "<div class=\"ansiout\">Python interpreter will be restarted.\nRequirement already satisfied: confluent_kafka in /local_disk0/.ephemeral_nfs/envs/pythonEnv-341b20a4-7e83-4002-91e2-8392da2568db/lib/python3.8/site-packages (2.4.0)\nPython interpreter will be restarted.\nPython interpreter will be restarted.\nRequirement already satisfied: Faker in /local_disk0/.ephemeral_nfs/envs/pythonEnv-341b20a4-7e83-4002-91e2-8392da2568db/lib/python3.8/site-packages (26.0.0)\nRequirement already satisfied: python-dateutil&gt;=2.4 in /databricks/python3/lib/python3.8/site-packages (from Faker) (2.8.1)\nRequirement already satisfied: six&gt;=1.5 in /databricks/python3/lib/python3.8/site-packages (from python-dateutil&gt;=2.4-&gt;Faker) (1.15.0)\nPython interpreter will be restarted.\n</div>",
       "datasetInfos": [],
       "metadata": {},
       "removedWidgets": [],
       "type": "html"
      }
     },
     "output_type": "display_data"
    }
   ],
   "source": [
    "%pip install confluent_kafka\n",
    "%pip install Faker"
   ]
  },
  {
   "cell_type": "code",
   "execution_count": 0,
   "metadata": {
    "application/vnd.databricks.v1+cell": {
     "cellMetadata": {
      "byteLimit": 2048000,
      "rowLimit": 10000
     },
     "inputWidgets": {},
     "nuid": "bc0770b9-dee6-478e-b0ad-27ee3310af72",
     "showTitle": false,
     "title": ""
    }
   },
   "outputs": [
    {
     "output_type": "display_data",
     "data": {
      "text/html": [
       "<style scoped>\n",
       "  .ansiout {\n",
       "    display: block;\n",
       "    unicode-bidi: embed;\n",
       "    white-space: pre-wrap;\n",
       "    word-wrap: break-word;\n",
       "    word-break: break-all;\n",
       "    font-family: \"Menlo\", \"Monaco\", \"Consolas\", \"Ubuntu Mono\", \"Source Code Pro\", monospace;\n",
       "    font-size: 13px;\n",
       "    color: #555;\n",
       "    margin-left: 4px;\n",
       "    line-height: 19px;\n",
       "  }\n",
       "</style>\n",
       "<div class=\"ansiout\"></div>"
      ]
     },
     "metadata": {
      "application/vnd.databricks.v1+output": {
       "addedWidgets": {},
       "arguments": {},
       "data": "<div class=\"ansiout\"></div>",
       "datasetInfos": [],
       "metadata": {},
       "removedWidgets": [],
       "type": "html"
      }
     },
     "output_type": "display_data"
    }
   ],
   "source": [
    "from confluent_kafka import Producer\n",
    "from faker import Faker\n",
    "import time\n",
    "import random"
   ]
  },
  {
   "cell_type": "code",
   "execution_count": 0,
   "metadata": {
    "application/vnd.databricks.v1+cell": {
     "cellMetadata": {
      "byteLimit": 2048000,
      "rowLimit": 10000
     },
     "inputWidgets": {},
     "nuid": "6277a117-9fc8-4678-bf89-3e87892fb89c",
     "showTitle": false,
     "title": ""
    }
   },
   "outputs": [
    {
     "output_type": "display_data",
     "data": {
      "text/html": [
       "<style scoped>\n",
       "  .ansiout {\n",
       "    display: block;\n",
       "    unicode-bidi: embed;\n",
       "    white-space: pre-wrap;\n",
       "    word-wrap: break-word;\n",
       "    word-break: break-all;\n",
       "    font-family: \"Menlo\", \"Monaco\", \"Consolas\", \"Ubuntu Mono\", \"Source Code Pro\", monospace;\n",
       "    font-size: 13px;\n",
       "    color: #555;\n",
       "    margin-left: 4px;\n",
       "    line-height: 19px;\n",
       "  }\n",
       "</style>\n",
       "<div class=\"ansiout\"></div>"
      ]
     },
     "metadata": {
      "application/vnd.databricks.v1+output": {
       "addedWidgets": {},
       "arguments": {},
       "data": "<div class=\"ansiout\"></div>",
       "datasetInfos": [],
       "metadata": {},
       "removedWidgets": [],
       "type": "html"
      }
     },
     "output_type": "display_data"
    }
   ],
   "source": [
    "UsuarioKafka = dbutils.secrets.get(scope='sc-adls', key='UsuarioKafka')\n",
    "PasswordKafka = dbutils.secrets.get(scope='sc-adls', key='PasswordKafka')\n",
    "ServerKafka = dbutils.secrets.get(scope='sc-adls', key='ServerKafka')"
   ]
  },
  {
   "cell_type": "code",
   "execution_count": 0,
   "metadata": {
    "application/vnd.databricks.v1+cell": {
     "cellMetadata": {
      "byteLimit": 2048000,
      "rowLimit": 10000
     },
     "inputWidgets": {},
     "nuid": "36fbd408-4dea-4526-a0c7-a535be3937b4",
     "showTitle": false,
     "title": ""
    }
   },
   "outputs": [
    {
     "output_type": "display_data",
     "data": {
      "text/html": [
       "<style scoped>\n",
       "  .ansiout {\n",
       "    display: block;\n",
       "    unicode-bidi: embed;\n",
       "    white-space: pre-wrap;\n",
       "    word-wrap: break-word;\n",
       "    word-break: break-all;\n",
       "    font-family: \"Menlo\", \"Monaco\", \"Consolas\", \"Ubuntu Mono\", \"Source Code Pro\", monospace;\n",
       "    font-size: 13px;\n",
       "    color: #555;\n",
       "    margin-left: 4px;\n",
       "    line-height: 19px;\n",
       "  }\n",
       "</style>\n",
       "<div class=\"ansiout\"></div>"
      ]
     },
     "metadata": {
      "application/vnd.databricks.v1+output": {
       "addedWidgets": {},
       "arguments": {},
       "data": "<div class=\"ansiout\"></div>",
       "datasetInfos": [],
       "metadata": {},
       "removedWidgets": [],
       "type": "html"
      }
     },
     "output_type": "display_data"
    }
   ],
   "source": [
    "# Configuración del productor de Kafka\n",
    "\n",
    "conf = {\n",
    "    'bootstrap.servers': ServerKafka,\n",
    "    'security.protocol': 'SASL_SSL',\n",
    "    'sasl.mechanisms': 'PLAIN',\n",
    "    'sasl.username': UsuarioKafka,\n",
    "    'sasl.password': PasswordKafka,\n",
    "}\n",
    "\n",
    "producer = Producer(conf) # Envio de mensajes al topico de kafka\n",
    "fake = Faker() # Diccionario para conectar y autentificar el productor con el cluster\n",
    "topic = 'notasAlumnos'\n",
    "\n",
    "def mensajes_entrega(msg_error, msg):\n",
    "    if msg_error is not None:\n",
    "        print('Mensaje de error: {}'.format(msg_error))\n",
    "    #else:\n",
    "    #    print('Mensaje entregado a {} Partición[{}]'.format(msg.topic(), msg.partition()))\n"
   ]
  },
  {
   "cell_type": "code",
   "execution_count": 0,
   "metadata": {
    "application/vnd.databricks.v1+cell": {
     "cellMetadata": {
      "byteLimit": 2048000,
      "rowLimit": 10000
     },
     "inputWidgets": {},
     "nuid": "ee268241-77d5-4b15-8641-32c0203a9d99",
     "showTitle": false,
     "title": ""
    }
   },
   "outputs": [
    {
     "output_type": "display_data",
     "data": {
      "text/html": [
       "<style scoped>\n",
       "  .ansiout {\n",
       "    display: block;\n",
       "    unicode-bidi: embed;\n",
       "    white-space: pre-wrap;\n",
       "    word-wrap: break-word;\n",
       "    word-break: break-all;\n",
       "    font-family: \"Menlo\", \"Monaco\", \"Consolas\", \"Ubuntu Mono\", \"Source Code Pro\", monospace;\n",
       "    font-size: 13px;\n",
       "    color: #555;\n",
       "    margin-left: 4px;\n",
       "    line-height: 19px;\n",
       "  }\n",
       "</style>\n",
       "<div class=\"ansiout\"></div>"
      ]
     },
     "metadata": {
      "application/vnd.databricks.v1+output": {
       "addedWidgets": {},
       "arguments": {},
       "data": "<div class=\"ansiout\"></div>",
       "datasetInfos": [],
       "metadata": {},
       "removedWidgets": [],
       "type": "html"
      }
     },
     "output_type": "display_data"
    }
   ],
   "source": [
    "def generar_datos(num_registros):\n",
    "    # Definir cursos posibles y una función para generar datos\n",
    "    cursos = ['apache_spark', 'kafka', 'databricks', 'Data Factory', 'Hadoop']\n",
    "\n",
    "    datos = []\n",
    "    for _ in range(num_registros):\n",
    "        # Generar un DNI de 4 caracteres\n",
    "        dni = ''.join([str(random.randint(0, 4)) for _ in range(4)])\n",
    "        fullName = fake.name()\n",
    "        curso = random.choice(cursos)  # Seleccionar un curso al azar\n",
    "        nota = random.randint(7, 20)\n",
    "        timestamp = fake.date_time_this_decade()\n",
    "        datos.append({\n",
    "            'dni': dni,\n",
    "            'nombres': fullName,\n",
    "            'curso': curso,\n",
    "            'nota': nota,\n",
    "            'fechaRegistro': timestamp.strftime('%m/%d/%Y %H:%M')\n",
    "        })\n",
    "\n",
    "        # Envía un mensaje al tópico\n",
    "        producer.produce(topic, key=fake.uuid4(), value=str(datos[-1]), callback=mensajes_entrega)\n",
    "        producer.poll(0)  # Verificar cualquier evento pendiente con la entrega de mensajes\n",
    "        time.sleep(1)  # Envía un mensaje por segundo\n",
    "\n",
    "        producer.flush()  # Enviar todos los mensajes al productor\n",
    "    return datos\n",
    "\n",
    "# Generar datos\n",
    "datos_generados = generar_datos(10)"
   ]
  }
 ],
 "metadata": {
  "application/vnd.databricks.v1+notebook": {
   "dashboards": [],
   "environmentMetadata": null,
   "language": "python",
   "notebookMetadata": {
    "mostRecentlyExecutedCommandWithImplicitDF": {
     "commandId": 3327586590640754,
     "dataframes": [
      "_sqldf"
     ]
    },
    "pythonIndentUnit": 4
   },
   "notebookName": "Producer_Messages",
   "widgets": {}
  }
 },
 "nbformat": 4,
 "nbformat_minor": 0
}
